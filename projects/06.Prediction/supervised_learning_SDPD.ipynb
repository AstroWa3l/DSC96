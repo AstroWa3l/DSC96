{
 "cells": [
  {
   "cell_type": "markdown",
   "metadata": {},
   "source": [
    "# Prediction and Supervised Learning: SDPD\n",
    "\n",
    "Today, we'll make predictions on the San Diego Police Dept traffic stops dataset, paying attention to which attributes contribute most to our model.\n",
    "\n",
    "Among the questions we'll ask, are\n",
    "* Can you predict the age/gender/ethnicity based on other factors? (which are regression? classification?)\n",
    "* Can you predict who will be search or arrested, based on attributes of the stopped driver?"
   ]
  },
  {
   "cell_type": "code",
   "execution_count": null,
   "metadata": {},
   "outputs": [],
   "source": [
    "%matplotlib inline\n",
    "\n",
    "import matplotlib.pyplot as plt\n",
    "import seaborn as sns; sns.set()  # for plot styling\n",
    "import numpy as np\n",
    "from datascience import *"
   ]
  },
  {
   "cell_type": "markdown",
   "metadata": {},
   "source": [
    "### Clean the SDPD \n",
    "\n",
    "As machine learning algorithms usually require numeric input, the cell below cleaned the SDPD data in a standard way.\n",
    "* Yes/No fields have been changed to 1/0.\n",
    "* Fields not conforming to a the expected values were given the value -1.\n",
    "    - you will likely want to filter out rows with -1 values before doing predictions!\n",
    "* The ethnicities are encoded with integers using `race_dict`"
   ]
  },
  {
   "cell_type": "code",
   "execution_count": null,
   "metadata": {},
   "outputs": [],
   "source": [
    "import pandas as pd\n",
    "sdraw = pd.read_csv('../01.Traffic_Stops/1.messy_data/data/vehicle_stops_2016_datasd.csv')\n",
    "\n",
    "# convert string date to date-time object\n",
    "sdraw['timestamp'] = pd.to_datetime(sdraw.timestamp)\n",
    "\n",
    "cleaned = pd.DataFrame()\n",
    "cleaned['stop_id'] = sd['stop_id']\n",
    "\n",
    "# clean stop_cause\n",
    "cleaned['is_moving_violation'] = sdraw.stop_cause.apply(lambda x:float(x == 'Moving Violation'))\n",
    "cleaned['is_equipment_violation'] = sdraw.stop_cause.apply(lambda x:float(x == 'Equipment Violation'))\n",
    "\n",
    "# service area: all non digits to -1, else same\n",
    "cleaned['service_area'] = sdraw.service_area.apply(lambda x:x if x.isdigit() else -1)\n",
    "\n",
    "# race: translate race codes to integers, given in race_dict\n",
    "race_dict = dict(zip(sdraw.subject_race.unique(), range(1000)))\n",
    "cleaned['subject_race'] = sdraw.subject_race.apply(lambda x: race_dict.get(x))\n",
    "\n",
    "# sex: M=>1, F=>0, Else -1\n",
    "def sex(s):\n",
    "    if pd.isnull(s):\n",
    "        return -1\n",
    "    if s.lower() == 'M':\n",
    "        return 1\n",
    "    elif s.lower() == 'F':\n",
    "        return 0\n",
    "    else:\n",
    "        return -1\n",
    "\n",
    "cleaned['subject_sex'] = sdraw.subject_sex.apply(sex)\n",
    "\n",
    "# Age: if not number, or > 100, then -1. Else make a float\n",
    "def age(s):\n",
    "    if pd.isnull(s):\n",
    "        return -1\n",
    "    if not s.isdigit():\n",
    "        return -1\n",
    "    if float(s) > 100:\n",
    "        return -1\n",
    "    else:\n",
    "        return float(s)\n",
    "    \n",
    "cleaned['subject_age'] = sdraw.subject_age.apply(age)\n",
    "\n",
    "# Datetime columns, using datetime methods\n",
    "cleaned['hour'] = sdraw.timestamp.apply(lambda x:x.hour)\n",
    "cleaned['day_of_week'] = sdraw.timestamp.apply(lambda x:x.dayofweek)\n",
    "cleaned['day_of_month'] = sdraw.timestamp.apply(lambda x:x.day)\n",
    "cleaned['month'] = sdraw.timestamp.apply(lambda x:x.month)\n",
    "\n",
    "# SD resident / searched / arrested\n",
    "\n",
    "def yes_no(s):\n",
    "    if pd.isnull(s):\n",
    "        return -1\n",
    "    if s.lower() == 'Y':\n",
    "        return 1\n",
    "    elif s.lower() == 'N':\n",
    "        return 0\n",
    "    else:\n",
    "        return -1\n",
    "    \n",
    "cleaned['sd_resident'] = sdraw.sd_resident.apply(yes_no)\n",
    "cleaned['arrested'] = sdraw.arrested.apply(yes_no)\n",
    "cleaned['searched'] = sdraw.searched.apply(yes_no)\n",
    "\n",
    "cleaned = cleaned.dropna() # drops any row without a timestamp"
   ]
  },
  {
   "cell_type": "code",
   "execution_count": null,
   "metadata": {},
   "outputs": [],
   "source": [
    "sdpd = Table.from_df(cleaned)"
   ]
  },
  {
   "cell_type": "code",
   "execution_count": null,
   "metadata": {},
   "outputs": [],
   "source": [
    "sdpd"
   ]
  },
  {
   "cell_type": "markdown",
   "metadata": {},
   "source": [
    "### Is a given traffic stop for a moving violation?\n",
    "\n",
    "We will try to predict, given a traffic stop, was it a moving violation?"
   ]
  },
  {
   "cell_type": "code",
   "execution_count": null,
   "metadata": {},
   "outputs": [],
   "source": [
    "from sklearn.model_selection import train_test_split"
   ]
  },
  {
   "cell_type": "code",
   "execution_count": null,
   "metadata": {},
   "outputs": [],
   "source": [
    "# X=attributes for training; y=labels\n",
    "\n",
    "# is_moving/equipment_violation are the labels, so we need to take them out!\n",
    "train_table = sdpd.drop('stop_id', 'is_moving_violation', 'is_equipment_violation')\n",
    "X = train_table.values\n",
    "y = sdpd.column('is_moving_violation')\n",
    "\n",
    "X_train, X_test, y_train, y_test = train_test_split(X, y, test_size=0.33, random_state=42)"
   ]
  },
  {
   "cell_type": "code",
   "execution_count": null,
   "metadata": {},
   "outputs": [],
   "source": [
    "from sklearn.ensemble import RandomForestClassifier \n",
    "rfc = RandomForestClassifier()"
   ]
  },
  {
   "cell_type": "code",
   "execution_count": null,
   "metadata": {},
   "outputs": [],
   "source": [
    "rfc.fit(X_train, y_train)"
   ]
  },
  {
   "cell_type": "markdown",
   "metadata": {},
   "source": [
    "### Check the models accuracy:\n",
    "* Is this accuracy even any good?\n",
    "* What are the models \"False positives\"\n",
    "    - the model guessed moving violation, when it wasn't\n",
    "* What are the models \"False negatives\"\n",
    "    - the model guess it wasn't a moving violation, when it was\n",
    "* What are the properties of examples the model thought were moving violations?   "
   ]
  },
  {
   "cell_type": "code",
   "execution_count": null,
   "metadata": {},
   "outputs": [],
   "source": [
    "# Accuracy of the model\n",
    "rfc.score(X_test, y_test)"
   ]
  },
  {
   "cell_type": "code",
   "execution_count": null,
   "metadata": {},
   "outputs": [],
   "source": [
    "# Code"
   ]
  },
  {
   "cell_type": "code",
   "execution_count": null,
   "metadata": {},
   "outputs": [],
   "source": [
    "# Code"
   ]
  },
  {
   "cell_type": "markdown",
   "metadata": {},
   "source": [
    "### Feature importances\n",
    "In decision tree based models, you can look at the importance of each feature to the model\n",
    "\n",
    "* Which features are most important?\n",
    "* Which values of those features are associated with moving violations?"
   ]
  },
  {
   "cell_type": "code",
   "execution_count": null,
   "metadata": {},
   "outputs": [],
   "source": [
    "importances = rfc.feature_importances_\n",
    "for x,y in sorted(zip(train_table.labels, importances)):\n",
    "    print(x,'\\t\\t\\t', y)"
   ]
  },
  {
   "cell_type": "code",
   "execution_count": null,
   "metadata": {},
   "outputs": [],
   "source": [
    "# Code"
   ]
  },
  {
   "cell_type": "code",
   "execution_count": null,
   "metadata": {},
   "outputs": [],
   "source": [
    "# Code"
   ]
  },
  {
   "cell_type": "markdown",
   "metadata": {},
   "source": [
    "### Try other ML model types\n",
    "* `GradientBoostingClassifier` is a sequential decision tree model\n",
    "    - each subsequent tree improves upon the misclassifications of the previous tree.\n",
    "    - it has a `feature_importances_` attribute as well\n",
    "* `LogisticRegression` is a regression based classifier\n",
    "    - the importance of the features can be access through the attribute `coef_`."
   ]
  },
  {
   "cell_type": "code",
   "execution_count": null,
   "metadata": {},
   "outputs": [],
   "source": [
    "from sklearn.neighbors import KNeighborsClassifier\n",
    "from sklearn.linear_model import LogisticRegression\n",
    "from sklearn.ensemble import GradientBoostingClassifier"
   ]
  },
  {
   "cell_type": "code",
   "execution_count": null,
   "metadata": {},
   "outputs": [],
   "source": [
    "\n"
   ]
  },
  {
   "cell_type": "markdown",
   "metadata": {},
   "source": [
    "## Next steps: \n",
    "\n",
    "Try other prediction problems, such as those listed at the top of the notebook. As always try to understand *why* the models are making the decisions that they are!"
   ]
  },
  {
   "cell_type": "code",
   "execution_count": null,
   "metadata": {},
   "outputs": [],
   "source": []
  }
 ],
 "metadata": {
  "kernelspec": {
   "display_name": "Python 3",
   "language": "python",
   "name": "python3"
  },
  "language_info": {
   "codemirror_mode": {
    "name": "ipython",
    "version": 3
   },
   "file_extension": ".py",
   "mimetype": "text/x-python",
   "name": "python",
   "nbconvert_exporter": "python",
   "pygments_lexer": "ipython3",
   "version": "3.6.5"
  }
 },
 "nbformat": 4,
 "nbformat_minor": 2
}
